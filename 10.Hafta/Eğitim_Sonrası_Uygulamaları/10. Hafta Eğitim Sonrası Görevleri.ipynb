{
 "cells": [
  {
   "attachments": {},
   "cell_type": "markdown",
   "metadata": {},
   "source": [
    "# Problem 1 "
   ]
  },
  {
   "cell_type": "code",
   "execution_count": null,
   "metadata": {},
   "outputs": [],
   "source": [
    "import numpy as np\n",
    "\n",
    "dizi = np.array([12, 5, 27, 3, 18])\n",
    "print(\"Orijinal dizi:\", dizi)\n",
    "\n",
    "sirali_dizi = np.sort(dizi)\n",
    "print(\"Sıralanmış dizi:\", sirali_dizi)\n"
   ]
  },
  {
   "attachments": {},
   "cell_type": "markdown",
   "metadata": {},
   "source": [
    "# Problem 2"
   ]
  },
  {
   "cell_type": "code",
   "execution_count": null,
   "metadata": {},
   "outputs": [],
   "source": [
    "import numpy as np\n",
    "\n",
    "d1 = np.array([10, 15, 30, 45, 60])\n",
    "print(\"1:\", d1)\n",
    "\n",
    "d2 = np.arange(5, 16)\n",
    "print(\"2:\", d2)\n",
    "\n",
    "d3 = np.arange(50, 101, 5)\n",
    "print(\"3:\", d3)\n",
    "\n",
    "d4 = np.zeros(10)\n",
    "print(\"4:\", d4)\n",
    "\n",
    "d5 = np.ones(10)\n",
    "print(\"5:\", d5)\n",
    "\n",
    "d6 = np.linspace(0, 100, 5)\n",
    "print(\"6:\", d6)\n",
    "\n",
    "d7 = np.random.randint(10, 31, 5)\n",
    "print(\"7:\", d7)\n",
    "\n",
    "d8 = np.random.uniform(-1, 1, 10)\n",
    "print(\"8:\", d8)\n",
    "\n",
    "m1 = np.random.randint(10, 51, (3, 5))\n",
    "print(\"9:\\n\", m1)\n",
    "\n",
    "print(\"10 - Satır toplamları:\", np.sum(m1, axis=1))\n",
    "print(\"10 - Sütun toplamları:\", np.sum(m1, axis=0))\n",
    "\n",
    "print(\"11 - Maksimum:\", np.max(m1))\n",
    "print(\"11 - Minimum:\", np.min(m1))\n",
    "print(\"11 - Ortalama:\", np.mean(m1))\n",
    "\n",
    "print(\"12 - En büyük değerin indeksi:\", np.argmax(m1))\n",
    "\n",
    "d13 = np.arange(10, 21)\n",
    "print(\"13 - İlk 3 eleman:\", d13[:3])\n",
    "\n",
    "print(\"14 - Tersten:\", d13[::-1])\n",
    "\n",
    "print(\"15 - İlk satır:\", m1[0])\n",
    "\n",
    "print(\"16 - 2.satır 3.sütun:\", m1[1, 2])\n",
    "\n",
    "print(\"17 - Tüm satırların ilk elemanı:\", m1[:, 0])\n",
    "\n",
    "print(\"18 - Elemanların kareleri:\\n\", m1 ** 2)\n",
    "\n",
    "m2 = np.random.randint(-50, 51, (3, 5))\n",
    "print(\"19 - Yeni matris:\\n\", m2)\n",
    "pozitif_ciftler = m2[(m2 > 0) & (m2 % 2 == 0)]\n",
    "print(\"19 - Pozitif çift sayılar:\", pozitif_ciftler)\n",
    "\n"
   ]
  }
 ],
 "metadata": {
  "kernelspec": {
   "display_name": "Python 3",
   "language": "python",
   "name": "python3"
  },
  "language_info": {
   "name": "python",
   "version": "3.10.5 (tags/v3.10.5:f377153, Jun  6 2022, 16:14:13) [MSC v.1929 64 bit (AMD64)]"
  },
  "orig_nbformat": 4,
  "vscode": {
   "interpreter": {
    "hash": "5026d2d6e7aaaaba093def813beadff083d8733e4a511af01735cbabd156995d"
   }
  }
 },
 "nbformat": 4,
 "nbformat_minor": 2
}
