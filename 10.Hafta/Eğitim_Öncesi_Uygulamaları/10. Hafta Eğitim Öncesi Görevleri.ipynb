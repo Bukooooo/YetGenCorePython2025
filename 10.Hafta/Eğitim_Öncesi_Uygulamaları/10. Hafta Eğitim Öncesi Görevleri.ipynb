{
 "cells": [
  {
   "attachments": {},
   "cell_type": "markdown",
   "metadata": {},
   "source": [
    "# Problem 1"
   ]
  },
  {
   "cell_type": "code",
   "execution_count": null,
   "metadata": {},
   "outputs": [],
   "source": [
    "import numpy as np\n",
    "\n",
    "matris = np.random.randint(0, 11, 5)\n",
    "print(\"Matris:\", matris)\n",
    "\n",
    "print(\"Matrisin şekli (boyutu):\", matris.shape)\n",
    "\n",
    "matris_reshaped = matris.reshape(5, 1)\n",
    "print(\"Yeniden boyutlandırılmış matris:\\n\", matris_reshaped)\n",
    "\n",
    "# 5 - matris'in boyut sayısını öğrenin\n",
    "print(\"Boyut sayısı (ndim):\", matris_reshaped.ndim)\n"
   ]
  },
  {
   "attachments": {},
   "cell_type": "markdown",
   "metadata": {},
   "source": [
    "# Problem 2"
   ]
  },
  {
   "cell_type": "code",
   "execution_count": null,
   "metadata": {},
   "outputs": [],
   "source": [
    "import numpy as np\n",
    "\n",
    "matris = np.arange(1, 10, 2)  \n",
    "print(\"Orijinal matris:\", matris)\n",
    "\n",
    "parca1, parca2 = np.split(matris, 2)  \n",
    "print(\"Parça 1:\", parca1)\n",
    "print(\"Parça 2:\", parca2)\n",
    "\n",
    "birlesik = np.concatenate((parca1, parca2))\n",
    "print(\"Birleştirilmiş matris:\", birlesik)\n"
   ]
  },
  {
   "attachments": {},
   "cell_type": "markdown",
   "metadata": {},
   "source": [
    "# Problem 3"
   ]
  },
  {
   "cell_type": "code",
   "execution_count": null,
   "metadata": {},
   "outputs": [],
   "source": [
    "import numpy as np\n",
    "\n",
    "sayilar = np.arange(5, 101, 2)  \n",
    "matris = np.random.choice(sayilar, size=10, replace=False)\n",
    "print(\"Rastgele matris:\", matris)\n",
    "\n",
    "\n",
    "print(\"Matris tipi:\", type(matris))\n",
    "print(\"Matris boyutu (shape):\", matris.shape)\n",
    "print(\"Matris eleman sayısı (size):\", matris.size)\n",
    "print(\"Matrisin boyut sayısı (ndim):\", matris.ndim)\n",
    "print(\"Matris veri tipi (dtype):\", matris.dtype)\n",
    "print(\"Matris ortalaması:\", np.mean(matris))\n",
    "print(\"Matris maksimum değeri:\", np.max(matris))\n",
    "print(\"Matris minimum değeri:\", np.min(matris))\n"
   ]
  }
 ],
 "metadata": {
  "kernelspec": {
   "display_name": "Python 3",
   "language": "python",
   "name": "python3"
  },
  "language_info": {
   "codemirror_mode": {
    "name": "ipython",
    "version": 3
   },
   "file_extension": ".py",
   "mimetype": "text/x-python",
   "name": "python",
   "nbconvert_exporter": "python",
   "pygments_lexer": "ipython3",
   "version": "3.12.0"
  },
  "orig_nbformat": 4,
  "vscode": {
   "interpreter": {
    "hash": "5026d2d6e7aaaaba093def813beadff083d8733e4a511af01735cbabd156995d"
   }
  }
 },
 "nbformat": 4,
 "nbformat_minor": 2
}
