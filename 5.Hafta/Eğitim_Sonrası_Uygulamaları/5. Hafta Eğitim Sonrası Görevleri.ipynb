{
 "cells": [
  {
   "cell_type": "markdown",
   "metadata": {
    "id": "Rm1DKmXZM-Ja"
   },
   "source": [
    "# Problem 1\n",
    "\n",
    "Fizikte, bir nesnenin sabit ivmeyle hareket ederken son hızını \n",
    "(veya hızını) bulmak için aşağıdaki denklem kullanılabilir:\n",
    "```\n",
    "vf = vi + at\n",
    "burada:\n",
    "vf= son hız\n",
    "vi= ilk hız\n",
    "a= hızlanma\n",
    "t= zaman\n",
    "```\n",
    "İlk hız, ivme ve zaman verildiğinde, son hızı döndürecek bir fonksiyon yazın."
   ]
  },
  {
   "cell_type": "code",
   "execution_count": null,
   "metadata": {
    "id": "vWrjJiV0M-Jk"
   },
   "outputs": [
    {
     "name": "stdout",
     "output_type": "stream",
     "text": [
      "Son hız: 50.0 m/s\n"
     ]
    }
   ],
   "source": [
    "def son_hiz(vi, a, t):\n",
    "    return vi + a * t\n",
    "\n",
    "vi = float(input(\"İlk hızı girin (m/s): \"))\n",
    "a = float(input(\"İvmeyi girin (m/s²): \"))\n",
    "t = float(input(\"Zamanı girin (s): \"))\n",
    "\n",
    "vf = son_hiz(vi, a, t)\n",
    "print(f\"Son hız: {vf}\")\n",
    "    "
   ]
  },
  {
   "cell_type": "markdown",
   "metadata": {
    "id": "uAHpyY5HM-Jq"
   },
   "source": [
    "# Problem 2\n",
    "\n",
    "1'den 1000'e kadar olan sayılardan mükemmel sayı olanları ekrana yazdırın. Bunun için bir sayının mükemmel olup olmadığını dönen bir tane fonksiyon yazın.\n",
    "\n",
    "Bir sayının bölenlerinin toplamı kendine eşitse bu sayı mükemmel bir sayıdır. Örnek olarak 6 mükemmel bir sayıdır (1 + 2 + 3 = 6)."
   ]
  },
  {
   "cell_type": "code",
   "execution_count": null,
   "metadata": {
    "id": "yrY4Y5ncM-Jr"
   },
   "outputs": [
    {
     "name": "stdout",
     "output_type": "stream",
     "text": [
      "6 sayısı mükemmel bir sayıdır.\n"
     ]
    }
   ],
   "source": [
    "def mukemmel_sayi(sayi):\n",
    "    toplam = 0\n",
    "    for i in range(1, sayi):  # Burada sayının kendisini dahil etmemeliyiz\n",
    "        if sayi % i == 0:\n",
    "            toplam += i\n",
    "    return toplam\n",
    "\n",
    "sayi = int(input(\"Bir sayı giriniz: \"))\n",
    "\n",
    "if mukemmel_sayi(sayi) == sayi:\n",
    "    print(f\"{sayi} sayısı mükemmel sayıdır.\")\n",
    "else:\n",
    "    print(f\"{sayi} sayısı mükemmel sayı değildir.\")"
   ]
  },
  {
   "cell_type": "markdown",
   "metadata": {
    "id": "C2-XwlJtM-Jr"
   },
   "source": [
    "# Problem 3\n",
    "\n",
    "1'den 100'e kadar olan sayılardan pisagor üçgeni oluşturanları ekrana yazdıran bir fonksiyon yazın.(a <= 100,b <= 100)\n"
   ]
  },
  {
   "cell_type": "code",
   "execution_count": 5,
   "metadata": {
    "id": "BMNy4xi-M-Js"
   },
   "outputs": [
    {
     "name": "stdout",
     "output_type": "stream",
     "text": [
      "[(3, 4, 5), (5, 12, 13), (6, 8, 10), (7, 24, 25), (8, 15, 17), (9, 12, 15), (9, 40, 41), (10, 24, 26), (11, 60, 61), (12, 16, 20), (12, 35, 37), (13, 84, 85), (14, 48, 50), (15, 20, 25), (15, 36, 39), (16, 30, 34), (16, 63, 65), (18, 24, 30), (18, 80, 82), (20, 21, 29), (20, 48, 52), (21, 28, 35), (21, 72, 75), (24, 32, 40), (24, 45, 51), (24, 70, 74), (25, 60, 65), (27, 36, 45), (28, 45, 53), (28, 96, 100), (30, 40, 50), (30, 72, 78), (32, 60, 68), (33, 44, 55), (33, 56, 65), (35, 84, 91), (36, 48, 60), (36, 77, 85), (39, 52, 65), (39, 80, 89), (40, 42, 58), (40, 75, 85), (42, 56, 70), (45, 60, 75), (48, 55, 73), (48, 64, 80), (51, 68, 85), (54, 72, 90), (57, 76, 95), (60, 63, 87), (60, 80, 100), (65, 72, 97)]\n"
     ]
    }
   ],
   "source": [
    "def pisagor_ucgeni():\n",
    "    sonuc = []\n",
    "    for a in range(1, 101):\n",
    "        for b in range(a, 101):  \n",
    "            c = (a**2 + b**2) ** 0.5\n",
    "            if c == int(c) and c <= 100: \n",
    "                sonuc.append((a, b, int(c))) \n",
    "    return sonuc\n",
    "\n",
    "print(pisagor_ucgeni())"
   ]
  },
  {
   "cell_type": "markdown",
   "metadata": {
    "id": "oPfmWi4jM-Js"
   },
   "source": [
    "# Problem 4\n",
    "\n",
    "Bir duvar boyamaya karar verdiniz. Boya kutusunun üzerindeki talimatta, 1 kutu boyanın 5 metrekarelik bir duvarı boyayabileceği yazıyor. Rastgele bir duvar yüksekliği ve genişliği verildiğinde, kaç kutu boya satın almanız gerektiğini hesaplayın.\n",
    "\n",
    "kutu sayısı = (duvar yüksekliği * duvar genişliği) ÷ kutu başına kaplama.\n",
    "\n",
    "örneğin Yükseklik = 2, Genişlik = 4, Kaplama = 5\n",
    "\n",
    "kutu sayısı = (2 * 4) ÷ 5 = 1.6\n",
    "\n",
    "Ancak bir kutu boyanın 0,6'sını satın alamayacağınız için, sonuç 2 kutuya yuvarlanmalıdır .\n"
   ]
  },
  {
   "cell_type": "code",
   "execution_count": 6,
   "metadata": {
    "id": "0zuyzSp5M-Jt"
   },
   "outputs": [
    {
     "name": "stdout",
     "output_type": "stream",
     "text": [
      "Duvarı boyamak için 45 kutuya ihtiyaç vardır.\n"
     ]
    }
   ],
   "source": [
    "duvarYukseklik = float(input(\"Bir sayı giriniz: \"))\n",
    "duvarGenisligi = float(input(\"Bir sayı giriniz: \"))\n",
    "kutuBasinaktalama = 5\n",
    "\n",
    "def kutuSayisi(duvarYukseklik, duvarGenisligi):\n",
    "    kutu = (duvarYukseklik * duvarGenisligi) / kutuBasinaktalama\n",
    "    kutu = round(kutu)\n",
    "    return (kutu)\n",
    "\n",
    "kutu = kutuSayisi(duvarYukseklik, duvarGenisligi)\n",
    "print(f\"Duvarı boyamak için {kutu} kutuya ihtiyaç vardır.\")"
   ]
  },
  {
   "cell_type": "markdown",
   "metadata": {
    "id": "pe6TJuBBM-Ju"
   },
   "source": [
    "# Problem 5\n",
    "\n",
    "Bir kelimedeki ünlü ve ünsüz harfleri sayan bir fonksiyon yazınız."
   ]
  },
  {
   "cell_type": "code",
   "execution_count": 9,
   "metadata": {
    "id": "LJ0opjiLM-Ju"
   },
   "outputs": [
    {
     "name": "stdout",
     "output_type": "stream",
     "text": [
      "Ünlü harf sayısı: 0\n",
      "Ünsüz harf sayısı: 1\n"
     ]
    }
   ],
   "source": [
    "def harf_sayaci(kelime):\n",
    "    unlu = \"aeıioöuü\"\n",
    "    unsuz = \"bcçdfgğhjklmnprsştvyz\"\n",
    "    \n",
    "    unlu_sayisi = sum(kelime.count(h) for h in unlu)\n",
    "    unsuz_sayisi = sum(kelime.count(h) for h in unsuz)\n",
    "\n",
    "    print(f\"Ünlü harf sayısı: {unlu_sayisi}\")\n",
    "    print(f\"Ünsüz harf sayısı: {unsuz_sayisi}\")\n",
    "\n",
    "kelime = input(\"Bir kelime giriniz: \").lower()\n",
    "harf_sayaci(kelime)"
   ]
  },
  {
   "cell_type": "markdown",
   "metadata": {
    "id": "Lfls2YTXM-Jv"
   },
   "source": [
    "# Problem 6\n",
    "\n",
    "Verilen bir listeden çift sayıları yazdıran bir fonksiyon yazınız.\n"
   ]
  },
  {
   "cell_type": "code",
   "execution_count": 10,
   "metadata": {
    "id": "qUwsL20IM-Jv"
   },
   "outputs": [
    {
     "name": "stdout",
     "output_type": "stream",
     "text": [
      "[2, 4, 6, 8, 10, 12, 14, 16]\n"
     ]
    }
   ],
   "source": [
    "def ciftSayilar():\n",
    "    liste = [1, 2, 3, 4, 5, 6, 7, 8, 9, 10, 11, 12, 13, 14, 15, 16]\n",
    "    ciftSayi = []\n",
    "    for i in liste:\n",
    "        if i % 2 == 0:\n",
    "            ciftSayi.append(i)\n",
    "    return ciftSayi\n",
    "\n",
    "print(ciftSayilar())"
   ]
  },
  {
   "cell_type": "markdown",
   "metadata": {
    "id": "IPp724iIM-Jy"
   },
   "source": [
    "# Problem 7\n",
    "\n",
    "0'dan 10'a kadar olan sayıların toplamını hesaplayan özyinelemeli (Recursive Function) bir fonksiyon oluşturan bir fonksiyon yazınız.\n",
    "\n",
    "Özyinelemeli (Recursive Function) bir işlev, kendini tekrar tekrar çağıran bir işlevdir."
   ]
  },
  {
   "cell_type": "code",
   "execution_count": 11,
   "metadata": {
    "id": "KFW6xhTJM-Jz"
   },
   "outputs": [
    {
     "name": "stdout",
     "output_type": "stream",
     "text": [
      "0'dan 10'a kadar olan sayıların toplamı: 55\n"
     ]
    }
   ],
   "source": [
    "def toplam(n):\n",
    "    if n == 0:\n",
    "        return 0\n",
    "    return n + toplam(n - 1)\n",
    "\n",
    "print(\"0'dan 10'a kadar olan sayıların toplamı:\", toplam(10))"
   ]
  }
 ],
 "metadata": {
  "colab": {
   "provenance": []
  },
  "kernelspec": {
   "display_name": "Python 3",
   "language": "python",
   "name": "python3"
  },
  "language_info": {
   "codemirror_mode": {
    "name": "ipython",
    "version": 3
   },
   "file_extension": ".py",
   "mimetype": "text/x-python",
   "name": "python",
   "nbconvert_exporter": "python",
   "pygments_lexer": "ipython3",
   "version": "3.12.0"
  },
  "orig_nbformat": 4
 },
 "nbformat": 4,
 "nbformat_minor": 0
}
