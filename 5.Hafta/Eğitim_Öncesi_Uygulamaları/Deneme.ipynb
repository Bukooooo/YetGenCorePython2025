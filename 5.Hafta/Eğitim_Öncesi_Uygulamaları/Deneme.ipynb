{
 "cells": [
  {
   "cell_type": "markdown",
   "metadata": {},
   "source": [
    "# List Comprehension\n",
    "* Liste işlemlerinde kodu uzun uzadıya yazmak yerine tek bir satırda düzenleme imkanı sunmaktadır.\n",
    "\n",
    "Do this  /for in collection     /In this situation                               \n",
    " [x**2    /for x in range(0, 50) /if x % 3 == 0    ]"
   ]
  },
  {
   "cell_type": "code",
   "execution_count": 1,
   "metadata": {},
   "outputs": [
    {
     "name": "stdout",
     "output_type": "stream",
     "text": [
      "[1, 4, 9, 16, 25, 36, 49, 64, 81, 100]\n"
     ]
    }
   ],
   "source": [
    "#Klasik Yöntem\n",
    "Liste = [1, 2, 3, 4, 5, 6, 7, 8, 9, 10]\n",
    "Yeni_Liste = []\n",
    "for i in Liste:\n",
    "    Yeni_Liste.append(i * i)\n",
    "print(Yeni_Liste)"
   ]
  },
  {
   "cell_type": "code",
   "execution_count": 2,
   "metadata": {},
   "outputs": [
    {
     "name": "stdout",
     "output_type": "stream",
     "text": [
      "[1, 4, 9, 16, 25, 36, 49, 64, 81, 100]\n"
     ]
    }
   ],
   "source": [
    "#List\n",
    "liste = [1, 2, 3, 4, 5, 6, 7, 8, 9, 10]\n",
    "yeni_liste = [i * i for i in liste]\n",
    "print(yeni_liste)"
   ]
  },
  {
   "cell_type": "code",
   "execution_count": 4,
   "metadata": {},
   "outputs": [
    {
     "name": "stdout",
     "output_type": "stream",
     "text": [
      "[1, 2, 3, 4, 5, 6, 7, 8, 9, 10, 11, 12, 13, 14, 15]\n"
     ]
    }
   ],
   "source": [
    "liste = [[1, 2, 3], [4, 5, 6, 7, 8], [9, 10, 11, 12, 13, 14, 15]]\n",
    "liste_2 = [x for i in liste for x in i]\n",
    "print(liste_2)"
   ]
  },
  {
   "cell_type": "code",
   "execution_count": 6,
   "metadata": {},
   "outputs": [
    {
     "name": "stdout",
     "output_type": "stream",
     "text": [
      "[1, 2, 3, 5, 6, 7, 8, 10]\n"
     ]
    }
   ],
   "source": [
    "Liste1 = [1, 2, 3, 4, 5, 6, 7, 8, 9, 10]\n",
    "Liste2 = [i for i in Liste1 if not(i == 4 or i == 9 )]\n",
    "print(Liste2)"
   ]
  },
  {
   "cell_type": "markdown",
   "metadata": {},
   "source": [
    "# Fonksiyonlar\n",
    "\n",
    "* Bir kodu bir çok yerde kullanmamız gerekiyorsa, her yerde tekrar tekrar yazmayı önler. Programlamanın temeli: DRY(Don't Repeat Yourself - Kendini tekrar etme)\n",
    "* Fonksiyonkarın içindeki değişkenler yereldir, yani bir fonksiyonun içinde bir değişken tanımladığınızda, o değişkeni fonksiyonun dışında çağırmayız. Çünkü o değişken o fonksiyona özeldir ve globelde kullanılamaz\n",
    "* Ne zaman bir fonksiyon çağırılırsa, fonksiyonu yazdıktan sonra yapmalısınız.\n",
    "* Fonksiyon tanımlamanın yapısı şu şekildedir.\n",
    "\n",
    "        def fonksiyon_Adı(parametre1, parametre2, .... (opsiyonel)):\n",
    "            # Fonksiyon bloğu\n",
    "            Yapılacak işlemler\n",
    "            #dönüş değeri - Opsiyonel\n",
    "\n",
    "* Tanımlanan bir fonksiyonun kullanılması programlama dillerinde Fonksiyon Çağrısı denmektedir. O halde selamla fonksiyonumuzu nasıl çağıracağımızı öğrenelim. Fonksiyon Çağısı şu şekilde yapılabilmektedir.\n",
    "        fonksiyonun_adi(Argüman1, Argüman2, ...)"
   ]
  },
  {
   "cell_type": "code",
   "execution_count": 10,
   "metadata": {},
   "outputs": [
    {
     "name": "stdout",
     "output_type": "stream",
     "text": [
      "Merhaba\n"
     ]
    }
   ],
   "source": [
    "def selamla():\n",
    "    print(\"Merhaba\")\n",
    "\n",
    "selamla()"
   ]
  },
  {
   "cell_type": "markdown",
   "metadata": {},
   "source": [
    "# Argüman \n",
    "* İşlev çağırılırken parantez içindeki işlevlere iletilen değerlerdir (ör. işlev_adı(argüman)).\n",
    "* Eğer fonksiyon çağrılırken bir argüman verilmezse, varsayılan olarak None olur. Bu yüzden fonksiyon içinde varsayılan bir değer tanımlanmalıdır.\n",
    "\n",
    "def helloWorld(name=\"ziyaretçi\"):\n",
    "    print(\"Merhaba\", name)\n",
    "\n",
    "* Birden fazla parametre olabilir, her biri virgülle ayrılır."
   ]
  },
  {
   "cell_type": "code",
   "execution_count": 13,
   "metadata": {},
   "outputs": [
    {
     "name": "stdout",
     "output_type": "stream",
     "text": [
      "Merhaba  Ziyaretçi\n",
      "Merhaba  Berkcan\n"
     ]
    }
   ],
   "source": [
    "def helloworld(name = \"Ziyaretçi\"):\n",
    "    print(\"Merhaba \", name)\n",
    "\n",
    "helloworld()\n",
    "helloworld(\"Berkcan\")"
   ]
  },
  {
   "cell_type": "code",
   "execution_count": 14,
   "metadata": {},
   "outputs": [
    {
     "name": "stdout",
     "output_type": "stream",
     "text": [
      "6\n"
     ]
    }
   ],
   "source": [
    "def topla(sayi1, sayi2, sayi3):\n",
    "    toplam = sayi1 + sayi2 + sayi3\n",
    "    print(toplam)\n",
    "\n",
    "topla(1,2,3)"
   ]
  },
  {
   "cell_type": "code",
   "execution_count": 15,
   "metadata": {},
   "outputs": [
    {
     "name": "stdout",
     "output_type": "stream",
     "text": [
      "Siteme hoş geldiniz Berkcan Gümüşışık\n",
      "Siteme hoş geldiniz Buğra Gümüşışık\n",
      "Siteme hoş geldiniz Buğra Sarıkaya\n"
     ]
    }
   ],
   "source": [
    "def merhaba(name = \"Berkcan\", surname = \"Gümüşışık\"):\n",
    "    print(\"Siteme hoş geldiniz \" + name + \" \" + surname)\n",
    "\n",
    "merhaba()\n",
    "merhaba(\"Buğra\")\n",
    "merhaba(\"Buğra\", \"Sarıkaya\")"
   ]
  },
  {
   "cell_type": "code",
   "execution_count": 17,
   "metadata": {},
   "outputs": [
    {
     "name": "stdout",
     "output_type": "stream",
     "text": [
      "10\n",
      "6\n",
      "4\n"
     ]
    }
   ],
   "source": [
    "def carp(sayi1 = 1, sayi2 = 1, sayi3 = 1):\n",
    "    c = sayi1 + sayi2 + sayi3 \n",
    "    print(c)\n",
    "\n",
    "carp(2,3,5)\n",
    "carp(2,3)\n",
    "carp(2)\n",
    "    "
   ]
  },
  {
   "cell_type": "code",
   "execution_count": 18,
   "metadata": {},
   "outputs": [
    {
     "name": "stdout",
     "output_type": "stream",
     "text": [
      "Hola\n",
      "Bonjour\n",
      "hello\n",
      "merhaba\n"
     ]
    }
   ],
   "source": [
    "def merhaba(dil):\n",
    "    if dil == \"es\":\n",
    "        print(\"Hola\")\n",
    "    elif dil == \"fr\":\n",
    "        print(\"Bonjour\")\n",
    "    elif dil == \"en\":\n",
    "        print(\"hello\")\n",
    "    else:\n",
    "        print(\"merhaba\")\n",
    "\n",
    "merhaba(\"es\")\n",
    "merhaba(\"fr\")\n",
    "merhaba(\"en\")\n",
    "merhaba(\"tr\")"
   ]
  },
  {
   "cell_type": "markdown",
   "metadata": {},
   "source": [
    "# Return\n",
    "\n",
    "* Kodun tamamında kullanmak için işlevin kodu tamamlandıktan sonra kalan değeri (sonuç değeri) döndürür\n",
    "* \"return\" anahtar sözcüğünden sonraki kodlar yürütülmez. Bu, görmezden gelindikleri anlamına gelir\n",
    "* return yardımıyla fonksiyonlar değerleri çağrıldığı yere döndürebilir ve biz de bu değerleri istediğimiz yerde kullanabiliriz.\n",
    "\n",
    "\n",
    "\n",
    "\n",
    "\n",
    "\n"
   ]
  },
  {
   "cell_type": "code",
   "execution_count": 19,
   "metadata": {},
   "outputs": [
    {
     "name": "stdout",
     "output_type": "stream",
     "text": [
      "2.5\n"
     ]
    }
   ],
   "source": [
    "def dikucgenalanihesaplama(a,b):\n",
    "    return (a + b) / 2\n",
    "alan = dikucgenalanihesaplama(2,3)\n",
    "print(alan)"
   ]
  },
  {
   "cell_type": "markdown",
   "metadata": {},
   "source": [
    "# *args \n",
    "\n",
    "* Sınırsız sayıda parametreli fonksiyon oluşturmak için parametremizin önüne tek yıldız (*) koyabiliriz.\n",
    "* İsimsiz argümanlardır."
   ]
  },
  {
   "cell_type": "code",
   "execution_count": 20,
   "metadata": {},
   "outputs": [
    {
     "name": "stdout",
     "output_type": "stream",
     "text": [
      "(4,)\n"
     ]
    }
   ],
   "source": [
    "def sayilar(*x):\n",
    "    print(x)\n",
    "sayilar(4)"
   ]
  },
  {
   "cell_type": "code",
   "execution_count": 21,
   "metadata": {},
   "outputs": [
    {
     "name": "stdout",
     "output_type": "stream",
     "text": [
      "42\n"
     ]
    }
   ],
   "source": [
    "def topla(*x):\n",
    "    toplam = 0\n",
    "    for i in x:\n",
    "        toplam += i #toplam = toplam +i\n",
    "    print(toplam)\n",
    "topla(1, 2, 3, 5, 6, 7, 8, 10)"
   ]
  },
  {
   "cell_type": "markdown",
   "metadata": {},
   "source": [
    "# **kwargs\n",
    "\n",
    "* Çift yıldızlı (**) parametrelerin tek yıldızlı (*) parametrelerden en önemli farkı, fonksiyonu çağırırken anahtar değer ilişkisiyle çağırabilmemizdir.\n",
    "\n",
    "* İsimli argümanlardır."
   ]
  },
  {
   "cell_type": "code",
   "execution_count": 22,
   "metadata": {},
   "outputs": [
    {
     "name": "stdout",
     "output_type": "stream",
     "text": [
      "{'adi': 'Berkcan', 'soyadi': 'Gümüşışık', 'yas': 23}\n"
     ]
    }
   ],
   "source": [
    "def kimlikgoster(**kimlik):\n",
    "    print(kimlik)\n",
    "\n",
    "kimlikgoster(adi = \"Berkcan\", soyadi = \"Gümüşışık\", yas = 23)\n"
   ]
  },
  {
   "cell_type": "code",
   "execution_count": 24,
   "metadata": {},
   "outputs": [
    {
     "name": "stdout",
     "output_type": "stream",
     "text": [
      "10\n",
      "(20, 30, 40, 50)\n",
      "6\n",
      "{'adı': 'Berkcan', 'soyadı': 'Gümüşışık', 'yas': 23}\n"
     ]
    }
   ],
   "source": [
    "def ornek(a, *sayilar, b,**kimlik):\n",
    "    print(a)\n",
    "    print(sayilar)\n",
    "    print(b)\n",
    "    print(kimlik)\n",
    "\n",
    "ornek(10, 20, 30 , 40, 50,b = 6, adı = \"Berkcan\", soyadı = \"Gümüşışık\", yas = 23 )\n"
   ]
  },
  {
   "cell_type": "markdown",
   "metadata": {},
   "source": [
    "# Pass deyimi\n",
    "\n",
    "* Python programlamasında pass ifadesi null değer atama için kullanılır. Python’daki bir açıklama ve geçiş ifadesi arasındaki fark, yorumlayıcı bir yorumu tamamen yok sayarken, geçişin göz ardı edilmemesidir."
   ]
  },
  {
   "cell_type": "code",
   "execution_count": null,
   "metadata": {},
   "outputs": [],
   "source": [
    "def carp(*sayilar):\n",
    "    for sayi in sayilar:\n",
    "        pass\n",
    "\n",
    "carp(2,51)    "
   ]
  },
  {
   "cell_type": "markdown",
   "metadata": {},
   "source": [
    "# Global ve Yerel Değişkenler\n",
    "\n",
    "* Global değişken, fonksiyonlarımızın dışında tanımladığımız değişkenlerdir.\n",
    "\n",
    "* Yerel değişkenler ise fonksiyon içinde kullandığımız değişkenlerdir.\n",
    "\n",
    "* Fonksiyonun dışında tanımladığımız değişkenler fonksiyonların içinde kullanılırken, fonksiyonların içinde tanımladığımız değişkenler fonksiyon dışında kullanılamaz."
   ]
  },
  {
   "cell_type": "code",
   "execution_count": null,
   "metadata": {},
   "outputs": [
    {
     "ename": "SyntaxError",
     "evalue": "incomplete input (1221586807.py, line 3)",
     "output_type": "error",
     "traceback": [
      "\u001b[1;36m  Cell \u001b[1;32mIn[26], line 3\u001b[1;36m\u001b[0m\n\u001b[1;33m    #yerel değişken\u001b[0m\n\u001b[1;37m                   ^\u001b[0m\n\u001b[1;31mSyntaxError\u001b[0m\u001b[1;31m:\u001b[0m incomplete input\n"
     ]
    }
   ],
   "source": [
    "#Global değişken \n",
    "def yazdır():\n",
    "    #yerel değişken"
   ]
  },
  {
   "cell_type": "code",
   "execution_count": null,
   "metadata": {},
   "outputs": [
    {
     "ename": "NameError",
     "evalue": "name 'x' is not defined",
     "output_type": "error",
     "traceback": [
      "\u001b[1;31m---------------------------------------------------------------------------\u001b[0m",
      "\u001b[1;31mNameError\u001b[0m                                 Traceback (most recent call last)",
      "Cell \u001b[1;32mIn[27], line 6\u001b[0m\n\u001b[0;32m      3\u001b[0m     \u001b[38;5;28mprint\u001b[39m(x)\n\u001b[0;32m      5\u001b[0m yazdır2\n\u001b[1;32m----> 6\u001b[0m \u001b[38;5;28mprint\u001b[39m(\u001b[43mx\u001b[49m)\n",
      "\u001b[1;31mNameError\u001b[0m: name 'x' is not defined"
     ]
    }
   ],
   "source": [
    "def yazdır2():\n",
    "    x = 5\n",
    "    print(x)\n",
    "\n",
    "yazdır2\n",
    "print(x)"
   ]
  },
  {
   "cell_type": "code",
   "execution_count": null,
   "metadata": {},
   "outputs": [
    {
     "name": "stdout",
     "output_type": "stream",
     "text": [
      "5\n",
      "5\n"
     ]
    }
   ],
   "source": [
    "def yazdır3():\n",
    "    global x\n",
    "    x = 5\n",
    "    print(x)\n",
    "\n",
    "yazdır3()\n",
    "print(x)"
   ]
  },
  {
   "cell_type": "markdown",
   "metadata": {},
   "source": [
    "# Lambda Gösterimi\n",
    "\n",
    "* Python'da isimsiz olarak tanımladığımız fonksiyonlara lambda fonksiyonları denir.\n",
    "* Tek satırda yazılırlar.\n",
    "* Gösterimi:\n",
    "\n",
    "fonksiyonAdi = lambda parametreler : yapılacakIslem"
   ]
  },
  {
   "cell_type": "code",
   "execution_count": 29,
   "metadata": {},
   "outputs": [
    {
     "data": {
      "text/plain": [
       "3.0"
      ]
     },
     "execution_count": 29,
     "metadata": {},
     "output_type": "execute_result"
    }
   ],
   "source": [
    "dikucgenalanihesaplama = lambda a,b: a*b/2\n",
    "dikucgenalanihesaplama(2,3)"
   ]
  },
  {
   "cell_type": "code",
   "execution_count": 30,
   "metadata": {},
   "outputs": [
    {
     "name": "stdout",
     "output_type": "stream",
     "text": [
      "6\n"
     ]
    }
   ],
   "source": [
    "ikiylecarp = lambda x : print(x * 2)\n",
    "ikiylecarp(3)"
   ]
  },
  {
   "cell_type": "code",
   "execution_count": 32,
   "metadata": {},
   "outputs": [
    {
     "name": "stdout",
     "output_type": "stream",
     "text": [
      "nackreB\n"
     ]
    }
   ],
   "source": [
    "ters = lambda s : s[::-1]\n",
    "print(ters(\"Berkcan\"))"
   ]
  },
  {
   "cell_type": "code",
   "execution_count": null,
   "metadata": {},
   "outputs": [],
   "source": []
  }
 ],
 "metadata": {
  "kernelspec": {
   "display_name": "Python 3",
   "language": "python",
   "name": "python3"
  },
  "language_info": {
   "codemirror_mode": {
    "name": "ipython",
    "version": 3
   },
   "file_extension": ".py",
   "mimetype": "text/x-python",
   "name": "python",
   "nbconvert_exporter": "python",
   "pygments_lexer": "ipython3",
   "version": "3.12.0"
  }
 },
 "nbformat": 4,
 "nbformat_minor": 2
}
