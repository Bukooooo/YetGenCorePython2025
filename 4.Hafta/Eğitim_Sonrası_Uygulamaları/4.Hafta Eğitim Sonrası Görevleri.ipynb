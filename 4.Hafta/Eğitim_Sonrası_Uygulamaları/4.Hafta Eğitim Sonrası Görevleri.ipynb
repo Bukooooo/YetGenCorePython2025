{
 "cells": [
  {
   "cell_type": "markdown",
   "metadata": {},
   "source": [
    "# Problem 1\n",
    "`ogrenciler` adında bir sözlük oluşturunuz. Kullanıcıdan döngü yardımıyla 3 öğrenci için veri girmesini isteyerek öğrencilerin sırasıyla okul numarası, isim, soy isim, telefon numarası ve doğum tarihi bilgilerini alınız. Aldığınız öğrenci bilgilerini yine aynı döngü yardımıyla `ogrenciler` adındaki sözlükte saklayınız. Daha sonra öğrenci bilgilerinin bulunduğu sözlük yapısını ekrana bastırınız.\n",
    "\n"
   ]
  },
  {
   "cell_type": "code",
   "execution_count": null,
   "metadata": {},
   "outputs": [
    {
     "name": "stdout",
     "output_type": "stream",
     "text": [
      "Öğrenci Bilgileri:\n",
      "{'25': {'isim': '25', 'soyisim': '25', 'telefon': '25', 'dogum_tarihi': '25'}, '12': {'isim': '12', 'soyisim': '12', 'telefon': '12', 'dogum_tarihi': '12'}, '63': {'isim': '63', 'soyisim': '63', 'telefon': '63', 'dogum_tarihi': '63'}}\n"
     ]
    }
   ],
   "source": [
    "ogrenciler = {}\n",
    "\n",
    "for i in range(3):\n",
    "    okul_no = input(\"Okul numarası: \")\n",
    "    isim = input(\"İsmi: \")\n",
    "    soyisim = input(\"Soyismi: \")\n",
    "    telefon = input(\"Telefon numarası: \")\n",
    "    dogum_tarihi = input(\"Doğum tarihi: \")\n",
    "\n",
    "    ogrenciler[okul_no]= {\n",
    "        \"isim\": isim,\n",
    "        \"soyisim\": soyisim,\n",
    "        \"telefon\": telefon,\n",
    "        \"dogum_tarihi\": dogum_tarihi\n",
    "    }\n",
    "\n",
    "print(\"Öğrenci Bilgileri: \")\n",
    "print(ogrenciler)"
   ]
  },
  {
   "cell_type": "markdown",
   "metadata": {},
   "source": [
    "# Problem 2\n",
    "\n",
    "### a - Biraz ısınarak başlayalım!\n",
    "\n",
    "```\n",
    "numbers = [5,10,10,15,15,15,20,20,20,20]\n",
    "```\n",
    "\n",
    "Yukarıda `numbers` adında 10 elemanlı bir liste verilmiştir. Bu listenin her elemanını kontrol eden ve tekrar eden elemanları bir kez olacak şekilde başka bir listeye kopyalayan bir program yazınız. Son olarak oluşturduğunuz listeyi ekrana bastırınız.\n",
    "\n",
    "\n",
    "\n",
    "\n",
    "```\n",
    ">Output\n",
    "[5, 10, 15, 20]\n",
    "```\n"
   ]
  },
  {
   "cell_type": "code",
   "execution_count": null,
   "metadata": {},
   "outputs": [
    {
     "name": "stdout",
     "output_type": "stream",
     "text": [
      "{10, 20, 15}\n"
     ]
    }
   ],
   "source": [
    "numbers = [5,10,10,15,15,15,20,20,20,20]\n",
    "tekrar_edenler = []\n",
    "for i in numbers:\n",
    "    adet = (numbers.count(i))\n",
    "    if adet > 1:\n",
    "        tekrar_edenler.append(i)\n",
    "set_tekrar_edenler = set(tekrar_edenler)\n",
    "print(set_tekrar_edenler)\n"
   ]
  },
  {
   "cell_type": "markdown",
   "metadata": {},
   "source": [
    "### 🌶️ b) Hadi işi biraz daha zorlaştıralım! \n",
    "\n",
    "\n",
    "Şimdiyse senden `numbers` isimli listedeki tekrar eden elemanları `repeatNumbers` adındaki listeye; tekrar etmeyen elemanları `uniqueNumbers`adındaki listeye kopyalayan yazmanı ve listeleri ekrana bastırmanı bekliyoruz\n",
    "\n",
    "```\n",
    ">Output\n",
    "Tekrar Eden Elemanlar: [10, 10, 15, 15, 15, 20, 20, 20, 20]\n",
    "Tekrar Etmeyen Elemanlar: [5]\n",
    "```"
   ]
  },
  {
   "cell_type": "code",
   "execution_count": 39,
   "metadata": {},
   "outputs": [
    {
     "name": "stdout",
     "output_type": "stream",
     "text": [
      "[5]\n",
      "[10, 10, 15, 15, 15, 20, 20, 20, 20]\n"
     ]
    }
   ],
   "source": [
    "numbers = [5,10,10,15,15,15,20,20,20,20]\n",
    "tekrar_edenler = []\n",
    "tekrar_etmeyenler = []\n",
    "for i in numbers:\n",
    "    adet = (numbers.count(i))\n",
    "    if adet > 1:\n",
    "        tekrar_edenler.append(i)\n",
    "    elif adet == 1:\n",
    "        tekrar_etmeyenler.append(i)\n",
    "print(tekrar_etmeyenler)\n",
    "print(tekrar_edenler)\n"
   ]
  },
  {
   "cell_type": "markdown",
   "metadata": {},
   "source": [
    "# Problem 3\n",
    "sn1 = {1,2,3,4,5}\n",
    "\n",
    "sn2 = {4,5,6,7,8}\n",
    "\n",
    " Verilen 2 adet küme için kesişimlerini, farklarını ve birleşimlerini bulunuz. "
   ]
  },
  {
   "cell_type": "code",
   "execution_count": 40,
   "metadata": {},
   "outputs": [
    {
     "name": "stdout",
     "output_type": "stream",
     "text": [
      "Kesişim: {4, 5}\n",
      "Fark: {1, 2, 3}\n",
      "Birleşim: {1, 2, 3, 4, 5, 6, 7, 8}\n"
     ]
    }
   ],
   "source": [
    "sn1 = {1,2,3,4,5}\n",
    "sn2 = {4,5,6,7,8}\n",
    "kesisim= sn1.intersection(sn2)\n",
    "print(\"Kesişim:\", kesisim)\n",
    "fark= sn1.difference(sn2)\n",
    "print(\"Fark:\", fark)\n",
    "birlesim= sn1.union(sn2)\n",
    "print(\"Birleşim:\", birlesim)"
   ]
  },
  {
   "cell_type": "code",
   "execution_count": null,
   "metadata": {},
   "outputs": [
    {
     "name": "stdout",
     "output_type": "stream",
     "text": [
      "[4, 5]\n",
      "{1, 2, 3, 4, 5, 6, 7, 8}\n",
      "[]\n"
     ]
    }
   ],
   "source": [
    "sn1 = {1,2,3,4,5}\n",
    "sn2 = {4,5,6,7,8}\n",
    "\n",
    "küme_kesişim = []\n",
    "Küme_fark = []\n",
    "Küme_Birleşim = []\n",
    "\n",
    "for i in sn1:\n",
    "    for a in sn2:\n",
    "        if i == a:\n",
    "            küme_kesişim.append(i)\n",
    "        elif i != a:\n",
    "            Küme_Birleşim.append(i)\n",
    "            Küme_Birleşim.append(a)\n",
    "            Set_küme_birleşim = set(Küme_Birleşim)\n",
    "\n",
    "\n",
    "print(küme_kesişim)\n",
    "print(Set_küme_birleşim)\n",
    "print(Küme_fark)\n",
    "\n",
    "#farkı yapamadım bu tarz çözmeye çalışırken\n"
   ]
  },
  {
   "cell_type": "markdown",
   "metadata": {},
   "source": [
    "# Problem 4\n",
    "\n",
    "Buradaki işlemlerimizin tamamı stringler içindir. Aşağıda verilecek olan metodlar için kendinizin örnek yaratması gerekmektedir. \n",
    "\n",
    "Örneğin `upper` için `string` değişkeni oluştururken` k = \"BAC\"` şeklinde oluşturmayınız. Bunun yerine k değişkenini `k = \"bac`\" şeklinde oluşturmanız `upper` metodundaki değişimi görebilmeniz için daha iyi olacaktır.\n",
    "\n",
    "Bütün metodlardaki değişimin gözle görülür şekilde değişimi beklenmektedir.\n",
    "\n",
    "\n",
    "1- capitalize(), lower(), upper(), swapcase(), title(), replace()\n",
    "\n",
    "2- endswith(), startswith(), find(), index(), count()\n",
    "\n",
    "3- split(), strip(), join(), islower(), isalpha(), isdigit()\n",
    "\n",
    "\n",
    "Yukarıdaki `string` metodlarındaki değişimleri görebildiğimiz bir program yazınız.\n"
   ]
  },
  {
   "cell_type": "code",
   "execution_count": 46,
   "metadata": {},
   "outputs": [
    {
     "name": "stdout",
     "output_type": "stream",
     "text": [
      "Abc\n",
      "abc\n",
      "ABC\n",
      "Buğra Sarıkaya 33 Yaşında\n",
      "buğra sarıkaya 1998 yaşında\n",
      "sELaM nABer\n"
     ]
    }
   ],
   "source": [
    "Örnek_1 = \"abc\"\n",
    "Örnek_2 = \"ABC\"\n",
    "Örnek_3 = \"buğra sarıkaya 33 yaşında\"\n",
    "örnek_4 = \"SelAm NabER\"\n",
    "print(Örnek_1.capitalize())\n",
    "print(Örnek_2.lower())\n",
    "print(Örnek_1.upper())\n",
    "print(Örnek_3.title())\n",
    "print(Örnek_3.replace(\"33\", \"1998\"))\n",
    "print(örnek_4.swapcase())\n"
   ]
  },
  {
   "cell_type": "code",
   "execution_count": 60,
   "metadata": {},
   "outputs": [
    {
     "name": "stdout",
     "output_type": "stream",
     "text": [
      "False\n",
      "True\n",
      "2\n",
      "13\n",
      "1\n"
     ]
    }
   ],
   "source": [
    "Örnek_5 = \"İyiki Yetgen var\"\n",
    "print(Örnek_5.endswith(\".\"))\n",
    "print(Örnek_5.startswith(\"İ\"))\n",
    "print(Örnek_5.find(\"i\"))\n",
    "print(Örnek_5.index(\"var\"))\n",
    "print(Örnek_5.count(\"r\"))"
   ]
  },
  {
   "cell_type": "code",
   "execution_count": 78,
   "metadata": {},
   "outputs": [
    {
     "name": "stdout",
     "output_type": "stream",
     "text": [
      "Yürümek çok sağlikli bir aktivitedir\n",
      " Yürümek çok sağlikli bir aktivitedir \n",
      "['Yürümek', 'çok', 'sağlikli', 'bir', 'aktivitedir']\n",
      " :)Y:)ü:)r:)ü:)m:)e:)k:) :)ç:)o:)k:) :)s:)a:)ğ:)l:)i:)k:)l:)i:) :)b:)i:)r:) :)a:)k:)t:)i:)v:)i:)t:)e:)d:)i:)r:) \n",
      "False\n",
      "False\n",
      "False\n",
      "True\n",
      "True\n",
      "True\n"
     ]
    }
   ],
   "source": [
    "#split(), strip(), join(), islower(), isalpha(), isdigit()\n",
    "\n",
    "Örnek_6 = \" Yürümek çok sağlikli bir aktivitedir \"\n",
    "örnek_7 = \"845\"\n",
    "print(Örnek_6.strip())\n",
    "print(Örnek_6)\n",
    "\n",
    "print(Örnek_6.split())\n",
    "print(\":)\".join(Örnek_6))\n",
    "print(Örnek_6.islower())\n",
    "print(Örnek_6.isalpha())\n",
    "print(Örnek_6.isdigit())\n",
    "print(örnek_7.isdigit())\n",
    "print(Örnek_2.isalpha())\n",
    "print(Örnek_1.islower())"
   ]
  }
 ],
 "metadata": {
  "kernelspec": {
   "display_name": "Python 3",
   "language": "python",
   "name": "python3"
  },
  "language_info": {
   "codemirror_mode": {
    "name": "ipython",
    "version": 3
   },
   "file_extension": ".py",
   "mimetype": "text/x-python",
   "name": "python",
   "nbconvert_exporter": "python",
   "pygments_lexer": "ipython3",
   "version": "3.12.0"
  },
  "orig_nbformat": 4
 },
 "nbformat": 4,
 "nbformat_minor": 2
}
