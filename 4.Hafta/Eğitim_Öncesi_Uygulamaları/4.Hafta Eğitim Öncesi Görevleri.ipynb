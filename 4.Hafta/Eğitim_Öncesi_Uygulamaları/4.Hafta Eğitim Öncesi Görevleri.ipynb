{
 "cells": [
  {
   "cell_type": "markdown",
   "metadata": {
    "id": "-My6RWLrhXIq"
   },
   "source": [
    "# Problem 1\n",
    "Sözlükleri kullanarak bir telefon rehberi yazın. Bu rehberde kullanıcıya kimin telefonunu görüntülemek istediğini sorun ve kullanıcının girdiği isme göre o kişinin telefon numarasını yazdırın. Proje sonunda elde edeceğiniz çıktı  şuna benzer olmalı:\n",
    "\n",
    "\n",
    "Lütfen numarasını öğrenmek istediğiniz kişinin adını girin: Ahmet\n",
    "\n",
    "Ahmet isimli kişinin numarası şu şekildedir: 0532 678 13 19"
   ]
  },
  {
   "cell_type": "code",
   "execution_count": 11,
   "metadata": {
    "id": "LHIQEhchhXIu"
   },
   "outputs": [
    {
     "name": "stdout",
     "output_type": "stream",
     "text": [
      "a isimli kişinin numarası şudur: 5\n"
     ]
    }
   ],
   "source": [
    "Name_1 = str(input(\"Adınız: \"))\n",
    "Number_1 = str(input(\"Numaranız: \"))\n",
    "Name_2 = str(input(\"Adınız: \"))\n",
    "Number_2 = str(input(\"Numaranız: \"))\n",
    "Name_3 = str(input(\"Adınız: \"))\n",
    "Number_3 = str(input(\"Numaranız: \"))\n",
    "REHBER = {\n",
    "    Name_1 : Number_1,\n",
    "    Name_2 : Number_2,\n",
    "    Name_3 : Number_3   \n",
    "}\n",
    "\n",
    "\n",
    "aranan_kisi = str(input(\"Ad:\"))\n",
    "\n",
    "print(aranan_kisi, \"isimli kişinin numarası şudur:\", REHBER[aranan_kisi])"
   ]
  },
  {
   "cell_type": "markdown",
   "metadata": {
    "id": "rlgfjEi7hXIv"
   },
   "source": [
    "# Problem 2\n",
    "Sözlükleri kullanarak bir şirket çalışanları indeksi oluşturun. Bu isim indeksinde kişilerin isimleri key, kişilerin  memleket, yaş ve görev bilgileri value olmalıdır. Burada kullanacağımız value değerleri liste olmalıdır.\n",
    "\n",
    "\n",
    "Daha sonra bir isim sorgulama ekranı gibi kullanıcıya kimin bilgilerini görüntülemek istediğini \n",
    "sorun ve sorgulanan kişinin ekranda gösterilmesini sağlayın. Proje sonunda elde edeceğiniz çıktı şu şekilde olmalı:\n",
    "\n",
    "\n",
    "Lütfen bilgilerini görüntülemek istediğiniz çalışanın ismini girin: Mehmet Yağız\n",
    "\n",
    "Mehmet Yağız= Memleket: Adana Yaş: 40 Görev: Direktör"
   ]
  },
  {
   "cell_type": "code",
   "execution_count": null,
   "metadata": {
    "id": "O09zrrs0hXIv"
   },
   "outputs": [
    {
     "name": "stdout",
     "output_type": "stream",
     "text": [
      "('Memleket: izmir', 'Yaş:', 35, 'Görev: Memur')\n"
     ]
    }
   ],
   "source": [
    "Calisan = {\n",
    "    \"Ahmet\" : (\"Memleket: izmir\", \"Yaş:\",35, \"Görev: Memur\"),\n",
    "    \"Ali\" : (\"Memleket: Antalya\", \"Yaş:\",15, \"Görev: öğrenci\"),\n",
    "    \"zeynep\" : (\"Memleket: İstanbul\", \"Yaş:\",22, \"Görevi: Hemşire\"),\n",
    "}\n",
    "Sorgu = input(\"İsim: \")\n",
    "print(Calisan.get(Sorgu))"
   ]
  },
  {
   "cell_type": "markdown",
   "metadata": {
    "id": "G67ztXG-hXIw"
   },
   "source": [
    "# Problem 3\n",
    "\n",
    "3 öğrenciden oluşan bir öğrenci not sözlüğü oluşturun. Bu sözlükte öğrencilerin notları value olarak bir listede toplansın.\n",
    "\n",
    "Kullanıcıya hangi öğrencinin notlarını görmek istediğini sorun. Öğrencinin notu görüntülendiğinde program sonunda şöyle bir çıktı elde etmelisiniz:\n",
    "\n",
    "```\n",
    "Lütfen notlarını görmek istediğiniz öğrencinin adını girin: Mehmet\n",
    "\n",
    "Mehmet isimli öğrencinin      1.Sınav Notu:72\n",
    "                              2.Sınav Notu:66\n",
    "                              3.Sınav Notu:48\n",
    "Not Ortalaması: 62.0\n"
   ]
  },
  {
   "cell_type": "code",
   "execution_count": 58,
   "metadata": {
    "id": "TXQ_fuCHhXIw"
   },
   "outputs": [
    {
     "ename": "TypeError",
     "evalue": "'NoneType' object is not subscriptable",
     "output_type": "error",
     "traceback": [
      "\u001b[1;31m---------------------------------------------------------------------------\u001b[0m",
      "\u001b[1;31mTypeError\u001b[0m                                 Traceback (most recent call last)",
      "Cell \u001b[1;32mIn[58], line 9\u001b[0m\n\u001b[0;32m      1\u001b[0m Öğrenciler \u001b[38;5;241m=\u001b[39m {\n\u001b[0;32m      2\u001b[0m     \u001b[38;5;124m\"\u001b[39m\u001b[38;5;124mVeli\u001b[39m\u001b[38;5;124m\"\u001b[39m : (\u001b[38;5;124m\"\u001b[39m\u001b[38;5;124m1. Sınav:\u001b[39m\u001b[38;5;124m\"\u001b[39m, \u001b[38;5;241m75\u001b[39m, \u001b[38;5;124m\"\u001b[39m\u001b[38;5;124m2. Sınav:\u001b[39m\u001b[38;5;124m\"\u001b[39m, \u001b[38;5;241m65\u001b[39m,\u001b[38;5;124m\"\u001b[39m\u001b[38;5;124m3. Sınav:\u001b[39m\u001b[38;5;124m\"\u001b[39m, \u001b[38;5;241m75\u001b[39m),\n\u001b[0;32m      3\u001b[0m     \u001b[38;5;124m\"\u001b[39m\u001b[38;5;124mSezai\u001b[39m\u001b[38;5;124m\"\u001b[39m : (\u001b[38;5;124m\"\u001b[39m\u001b[38;5;124m1. Sınav:\u001b[39m\u001b[38;5;124m\"\u001b[39m, \u001b[38;5;241m52\u001b[39m, \u001b[38;5;124m\"\u001b[39m\u001b[38;5;124m2. Sınav:\u001b[39m\u001b[38;5;124m\"\u001b[39m, \u001b[38;5;241m100\u001b[39m,\u001b[38;5;124m\"\u001b[39m\u001b[38;5;124m3. Sınav:\u001b[39m\u001b[38;5;124m\"\u001b[39m, \u001b[38;5;241m98\u001b[39m),\n\u001b[0;32m      4\u001b[0m     \u001b[38;5;124m\"\u001b[39m\u001b[38;5;124mAlper\u001b[39m\u001b[38;5;124m\"\u001b[39m : (\u001b[38;5;124m\"\u001b[39m\u001b[38;5;124m1. Sınav:\u001b[39m\u001b[38;5;124m\"\u001b[39m, \u001b[38;5;241m58\u001b[39m, \u001b[38;5;124m\"\u001b[39m\u001b[38;5;124m2. Sınav:\u001b[39m\u001b[38;5;124m\"\u001b[39m, \u001b[38;5;241m72\u001b[39m,\u001b[38;5;124m\"\u001b[39m\u001b[38;5;124m3. Sınav:\u001b[39m\u001b[38;5;124m\"\u001b[39m, \u001b[38;5;241m61\u001b[39m),\n\u001b[0;32m      5\u001b[0m }\n\u001b[0;32m      8\u001b[0m Sorgu \u001b[38;5;241m=\u001b[39m \u001b[38;5;28minput\u001b[39m(\u001b[38;5;124m\"\u001b[39m\u001b[38;5;124mLütfen notlarını görmek istediğiniz öğrencinin adını girin: \u001b[39m\u001b[38;5;124m\"\u001b[39m)\n\u001b[1;32m----> 9\u001b[0m Ortalama \u001b[38;5;241m=\u001b[39m (\u001b[43mÖğrenciler\u001b[49m\u001b[38;5;241;43m.\u001b[39;49m\u001b[43mget\u001b[49m\u001b[43m(\u001b[49m\u001b[43mSorgu\u001b[49m\u001b[43m)\u001b[49m\u001b[43m[\u001b[49m\u001b[38;5;241;43m1\u001b[39;49m\u001b[43m]\u001b[49m \u001b[38;5;241m+\u001b[39m Öğrenciler\u001b[38;5;241m.\u001b[39mget(Sorgu)[\u001b[38;5;241m3\u001b[39m] \u001b[38;5;241m+\u001b[39m Öğrenciler\u001b[38;5;241m.\u001b[39mget(Sorgu)[\u001b[38;5;241m5\u001b[39m]) \u001b[38;5;241m/\u001b[39m \u001b[38;5;241m3\u001b[39m\n\u001b[0;32m     10\u001b[0m \u001b[38;5;28mprint\u001b[39m(Sorgu,\u001b[38;5;124m\"\u001b[39m\u001b[38;5;124misimli öğrencinin: \u001b[39m\u001b[38;5;124m\"\u001b[39m,Öğrenciler\u001b[38;5;241m.\u001b[39mget(Sorgu))\n\u001b[0;32m     11\u001b[0m \u001b[38;5;28mprint\u001b[39m(\u001b[38;5;124m\"\u001b[39m\u001b[38;5;124mOrtalama:\u001b[39m\u001b[38;5;124m\"\u001b[39m, Ortalama)\n",
      "\u001b[1;31mTypeError\u001b[0m: 'NoneType' object is not subscriptable"
     ]
    }
   ],
   "source": [
    "Öğrenciler = {\n",
    "    \"Veli\" : (\"1. Sınav:\", 75, \"2. Sınav:\", 65,\"3. Sınav:\", 75),\n",
    "    \"Sezai\" : (\"1. Sınav:\", 52, \"2. Sınav:\", 100,\"3. Sınav:\", 98),\n",
    "    \"Alper\" : (\"1. Sınav:\", 58, \"2. Sınav:\", 72,\"3. Sınav:\", 61),\n",
    "}\n",
    "\n",
    "\n",
    "Sorgu = input(\"Lütfen notlarını görmek istediğiniz öğrencinin adını girin: \")\n",
    "Ortalama = (Öğrenciler.get(Sorgu)[1] + Öğrenciler.get(Sorgu)[3] + Öğrenciler.get(Sorgu)[5]) / 3\n",
    "print(Sorgu,\"isimli öğrencinin: \",Öğrenciler.get(Sorgu))\n",
    "print(\"Ortalama:\", Ortalama)"
   ]
  },
  {
   "cell_type": "markdown",
   "metadata": {
    "id": "oel6A5WFhXIw"
   },
   "source": [
    "# Problem 4"
   ]
  },
  {
   "cell_type": "code",
   "execution_count": null,
   "metadata": {},
   "outputs": [
    {
     "name": "stdout",
     "output_type": "stream",
     "text": [
      "4\n",
      "BMW\n",
      "Mazda\n",
      "['BMW', 'Mercedes', 'Opel', 'Toyota']\n",
      "Opel\n",
      "['BMW', 'Mercedes', 'Opel']\n",
      "['BMW', 'Mercedes', 'Renault', 'Toyota']\n",
      "['BMW', 'Mercedes', 'Renault', 'Toyota', 'Audi', 'Nissan']\n",
      "['BMW', 'Mercedes', 'Renault', 'Toyota', 'Audi']\n",
      "['Audi', 'Toyota', 'Renault', 'Mercedes', 'BMW']\n"
     ]
    }
   ],
   "source": [
    "Arabalar = [\"BMW\", \"Mercedes\", \"Opel\", \"Mazda\"] # 1. soru\n",
    "Arabalar_uzunluk = len(Arabalar)\n",
    "\n",
    "print(Arabalar_uzunluk)   #2. soru\n",
    "\n",
    "index_ilk = Arabalar[0]   #3. soru\n",
    "index_son = Arabalar[-1]  #3. soru\n",
    "\n",
    "print(index_ilk)\n",
    "print(index_son)\n",
    "\n",
    "Arabalar[-1] = \"Toyota\" #4. soru\n",
    "\n",
    "print(Arabalar)\n",
    "\n",
    "print(Arabalar[-2])  #5. soru / Opel\n",
    "\n",
    "print(Arabalar[0:3])  #6. soru\n",
    "\n",
    "Arabalar[-1] = \"Toyota\"     #7. soru\n",
    "Arabalar[-2] = \"Renault\"    #7. soru\n",
    "\n",
    "print(Arabalar)\n",
    "\n",
    "Arabalar.append(\"Audi\")     #8. soru\n",
    "Arabalar.append(\"Nissan\")   #8. soru\n",
    "\n",
    "print(Arabalar)\n",
    "\n",
    "Arabalar.pop(-1)      #9. soru\n",
    "\n",
    "print(Arabalar)\n",
    "\n",
    "Arabalar.reverse()    #10. soru\n",
    "print(Arabalar)\n"
   ]
  },
  {
   "cell_type": "code",
   "execution_count": 45,
   "metadata": {},
   "outputs": [
    {
     "name": "stdout",
     "output_type": "stream",
     "text": [
      "[['Yiğit Bilgi', 2010, (70, 60, 70)], ['Sena Turan', 1999, (80, 80, 70)], ['Ahmet Turan', 1998, (80, 70, 90)]]\n"
     ]
    }
   ],
   "source": [
    "studentA = [\"Yiğit Bilgi\", 2010, (70,60,70)]\n",
    "studentB = [\"Sena Turan\", 1999, (80,80,70)]\n",
    "studentC = [\"Ahmet Turan\", 1998, (80,70,90)] \n",
    "öğrenciler = [studentA, studentB, studentC]\n",
    "print(öğrenciler)"
   ]
  },
  {
   "cell_type": "code",
   "execution_count": 44,
   "metadata": {},
   "outputs": [
    {
     "name": "stdout",
     "output_type": "stream",
     "text": [
      "['Ali', 'Yağmur', 'Hakan', 'Deniz', 'Cenk']\n",
      "['Sena', 'Ali', 'Yağmur', 'Hakan', 'Deniz', 'Cenk']\n",
      "['Sena', 'Ali', 'Yağmur', 'Hakan', 'Cenk']\n",
      "True\n",
      "['Cenk', 'Hakan', 'Yağmur', 'Ali', 'Sena']\n",
      "[1987, 1998, 2000, 1998]\n",
      "['Ali', 'Cenk', 'Hakan', 'Sena', 'Yağmur']\n",
      "[1987, 1998, 1998, 2000]\n",
      "['Chevrolet', 'Dacia']\n",
      "2\n",
      "[]\n",
      "['a', 'a', 'a']\n"
     ]
    }
   ],
   "source": [
    "names = ['Ali','Yağmur','Hakan','Deniz']\n",
    "years = [1998, 2000, 1998, 1987]\n",
    "\n",
    "names.append(\"Cenk\") #13. soru\n",
    "print(names)\n",
    "\n",
    "names.insert(0, \"Sena\") #14. soru\n",
    "print(names)\n",
    "\n",
    "names.remove(\"Deniz\")   #15. soru\n",
    "print(names)\n",
    "\n",
    "kontrol = \"Ali\" in names  #16. soru\n",
    "print(kontrol)\n",
    "\n",
    "years.reverse()  #17.soru\n",
    "names.reverse()  #17.soru\n",
    "print(names)\n",
    "print(years)\n",
    "\n",
    "years.sort()    #19. soru\n",
    "names.sort()    #18. soru\n",
    "print(names)\n",
    "print(years)\n",
    "\n",
    "strc = \"Chevrolet,Dacia\"    #20. soru\n",
    "print(strc.split(\",\"))    \n",
    "\n",
    "a = years.count(1998)       #21. soru\n",
    "print(a)\n",
    "\n",
    "years.clear()           #22. soru\n",
    "print(years)\n",
    "                                        #23. soru\n",
    "Marka_1= (input(\"Marka lütfen: \"))\n",
    "Marka_2 = (input(\"Marka lütfen: \"))\n",
    "Marka_3 = (input(\"Marka lütfen: \"))\n",
    "Marka = [Marka_1, Marka_2, Marka_3]\n",
    "print(Marka)"
   ]
  },
  {
   "cell_type": "code",
   "execution_count": null,
   "metadata": {
    "id": "jVRdspCrhXIx"
   },
   "outputs": [],
   "source": [
    "# 1-  \"Bmw, Mercedes, Opel, Mazda\" elemanlarına sahip bir liste oluşturunuz.\n",
    "# 2-  Liste Kaç elemanlıdır ?\n",
    "# 3-  Listenin ilk ve son elemanı nedir ?\n",
    "# 4-  Mazda değerini Toyota ile değiştirin.\n",
    "# 5-  Listenin -2 indeksindeki değer nedir ?\n",
    "# 6-  Listenin ilk 3 elemanını alın.\n",
    "# 7-  Listenin son 2 elemanı yerine \"Toyota\" ve \"Renault\" değerlerini ekleyin.\n",
    "# 8-  Listenin üzerine \"Audi\" ve \"Nissan\" değerlerini ekleyin.\n",
    "# 9- Listenin son elemanını silin.\n",
    "# 10- Liste elemanlarını tersten yazdırınız.\n",
    "\"--------------------------------------------------------------------------\"\n",
    "# 11- Aşağıdaki verileri bir liste içinde saklayınız. \n",
    "\n",
    "      # studentA: Yiğit Bilgi 2010, (70,60,70)\n",
    "      # studentB: Sena Turan  1999, (80,80,70)\n",
    "      # studentC: Ahmet Turan 1998, (80,70,90) \n",
    "\n",
    "# 12- Liste elemanlarını ekrana yazdırınız.\n",
    "\"---------------------------------------------------------------------------\"\n",
    "names = ['Ali','Yağmur','Hakan','Deniz']\n",
    "years = [1998, 2000, 1998, 1987]\n",
    "# 13-  \"Cenk\" ismini listenin sonuna ekleyiniz.\n",
    "# 14-  \"Sena\" değerini listenin başına ekleyiniz.\n",
    "# 15-  \"Deniz\" ismini listeden siliniz.\n",
    "# 16-  \"Ali\" listenin bir elemanı mıdır?\n",
    "# 17-  Liste elemanlarını ters çevirin.\n",
    "# 18-  Liste elemanlarını alfabetik olarak sıralayınız.\n",
    "# 19-  years listesini rakamsal büyüklüğe göre sıralayınız.\n",
    "# 20-  str = \"Chevrolet,Dacia\" karakter dizisini listeye çeviriniz.\n",
    "# 21- years dizisinde kaç tane 1998 değeri vardır ?\n",
    "# 22- years dizisinin tüm elemanlarını siliniz.\n",
    "# 23- Kullanıcıdan alacağınız 3 tane marka bilgisini bir listede saklayınız."
   ]
  }
 ],
 "metadata": {
  "colab": {
   "provenance": []
  },
  "kernelspec": {
   "display_name": "Python 3",
   "language": "python",
   "name": "python3"
  },
  "language_info": {
   "codemirror_mode": {
    "name": "ipython",
    "version": 3
   },
   "file_extension": ".py",
   "mimetype": "text/x-python",
   "name": "python",
   "nbconvert_exporter": "python",
   "pygments_lexer": "ipython3",
   "version": "3.12.0"
  },
  "orig_nbformat": 4
 },
 "nbformat": 4,
 "nbformat_minor": 0
}
