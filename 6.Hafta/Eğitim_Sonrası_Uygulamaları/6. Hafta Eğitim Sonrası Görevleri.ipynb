{
 "cells": [
  {
   "cell_type": "markdown",
   "metadata": {
    "id": "unoTPlV_tJOm"
   },
   "source": [
    "# Problem 1 \n",
    "Bir sayının çift olup olmadığını sorgulayan bir fonksiyon yazın. Bu fonksiyon, eğer sayı çift ise bu değeri dönsün. Ancak sayı tek sayı ise fonksiyon raise ile ValueError hatası oluştursun. Daha sonra, içinde çift ve tek sayılar bulunduran bir liste tanımlayın ve liste üzerinde gezinerek ekrana sadece çift sayıları bastırın."
   ]
  },
  {
   "cell_type": "code",
   "execution_count": 6,
   "metadata": {
    "id": "7oyBSeXptJOp"
   },
   "outputs": [
    {
     "name": "stdout",
     "output_type": "stream",
     "text": [
      "12\n",
      "18\n",
      "2\n",
      "14\n",
      "6\n"
     ]
    }
   ],
   "source": [
    "def çift_Sayi(sayi):\n",
    "    if sayi % 2 == 0:\n",
    "        return sayi\n",
    "    else:\n",
    "        raise ValueError\n",
    "\n",
    "numbers = [7, 12, 5, 18, 3, 2, 9, 14, 6, 11]\n",
    "\n",
    "for num in numbers:\n",
    "    try:\n",
    "        print(çift_Sayi(num))\n",
    "    except:\n",
    "        pass\n"
   ]
  },
  {
   "cell_type": "markdown",
   "metadata": {
    "id": "CdfzJ2A9tJOq"
   },
   "source": [
    "# Problem 2\n",
    "\n",
    "2 YetGen lideri ders sırasında canları sıkılınca oyun oynamak isterler. Ancak hangi oyunu oynayacaklarına karar veremezler ve son olarak kendi oyunlarını yazmaya karar verirler.\n",
    "Liderlerimizin kodlamak istediği oyun kuralları şöyledir:\n",
    "- Oyunda random olarak 0 ile 100 arasında bir sayı tutulur.\n",
    "- Kullanıcıdan bilgisayarın tuttuğu sayıyı tahmin etmesi için bir sayı girmesini istenir.\n",
    "- Eğer kullanıcının girdiği sayı bulunması gereken sayıdan küçükse  tahmininizi yükseltin, büyükse tahmininizi düşürün şeklinde bir çıktı verilir.\n",
    "- Oyunun gerçeğe yakın olması için bilgisayarın çalışmasını simgelemek için 1 saniye bekleme süresi tanınır.\n",
    "- Kullanıcı 5 hakkı vardır. 5 hakkı da kullanıp sayıyı bulamazsa oyunu kaybeder."
   ]
  },
  {
   "cell_type": "code",
   "execution_count": null,
   "metadata": {
    "id": "A1VEETgCtJOr"
   },
   "outputs": [
    {
     "name": "stdout",
     "output_type": "stream",
     "text": [
      "39\n",
      "Lütfen daha büyük bir sayı giriniz \n",
      "Lütfen daha büyük bir sayı giriniz \n",
      "Lütfen daha büyük bir sayı giriniz \n",
      "Lütfen daha büyük bir sayı giriniz \n",
      "Lütfen daha büyük bir sayı giriniz \n",
      "Malesef sayıyı doğru tahmin edemediniz. Sayımız => {39}\n"
     ]
    }
   ],
   "source": [
    "import time\n",
    "import random\n",
    "sayi = random.randint(1, 100)\n",
    "\n",
    "Tahmin_hakkı = 5\n",
    "\n",
    "for i in range(Tahmin_hakkı):\n",
    "    User_number = int(input(\"Bir sayı tutun: \"))\n",
    "    time.sleep(1)\n",
    "    if sayi > User_number:\n",
    "        print(\"Lütfen daha büyük bir sayı giriniz \")\n",
    "\n",
    "    elif sayi < User_number:    \n",
    "        print(\"Lütfen daha küçük bir sayı giriniz \")\n",
    "    else:\n",
    "        sayi == User_number\n",
    "        print(\"Tebrik ederim sayıyı buldunuz. \")\n",
    "        break\n",
    "else:\n",
    "    print(\"Malesef sayıyı doğru tahmin edemediniz. Sayımız =>\", {sayi})"
   ]
  }
 ],
 "metadata": {
  "colab": {
   "provenance": []
  },
  "kernelspec": {
   "display_name": "Python 3",
   "language": "python",
   "name": "python3"
  },
  "language_info": {
   "codemirror_mode": {
    "name": "ipython",
    "version": 3
   },
   "file_extension": ".py",
   "mimetype": "text/x-python",
   "name": "python",
   "nbconvert_exporter": "python",
   "pygments_lexer": "ipython3",
   "version": "3.12.0"
  },
  "orig_nbformat": 4,
  "vscode": {
   "interpreter": {
    "hash": "5026d2d6e7aaaaba093def813beadff083d8733e4a511af01735cbabd156995d"
   }
  }
 },
 "nbformat": 4,
 "nbformat_minor": 0
}
